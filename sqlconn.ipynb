{
 "cells": [
  {
   "cell_type": "code",
   "execution_count": 20,
   "metadata": {},
   "outputs": [],
   "source": [
    "#importing libraries\n",
    "import pandas as pd\n",
    "import mysql.connector\n",
    "import numpy as np"
   ]
  },
  {
   "cell_type": "code",
   "execution_count": 21,
   "metadata": {},
   "outputs": [
    {
     "data": {
      "text/html": [
       "<div>\n",
       "<style scoped>\n",
       "    .dataframe tbody tr th:only-of-type {\n",
       "        vertical-align: middle;\n",
       "    }\n",
       "\n",
       "    .dataframe tbody tr th {\n",
       "        vertical-align: top;\n",
       "    }\n",
       "\n",
       "    .dataframe thead th {\n",
       "        text-align: right;\n",
       "    }\n",
       "</style>\n",
       "<table border=\"1\" class=\"dataframe\">\n",
       "  <thead>\n",
       "    <tr style=\"text-align: right;\">\n",
       "      <th></th>\n",
       "      <th>Bus_name</th>\n",
       "      <th>Bus_type</th>\n",
       "      <th>Start_time</th>\n",
       "      <th>End_time</th>\n",
       "      <th>Total_duration</th>\n",
       "      <th>Price</th>\n",
       "      <th>Seats_Available</th>\n",
       "      <th>Ratings</th>\n",
       "      <th>Route_link</th>\n",
       "      <th>Route_name</th>\n",
       "    </tr>\n",
       "  </thead>\n",
       "  <tbody>\n",
       "    <tr>\n",
       "      <th>0</th>\n",
       "      <td>KSRTC (Kerala) - 97</td>\n",
       "      <td>Swift Deluxe Non AC Air Bus (2+2)</td>\n",
       "      <td>16:02</td>\n",
       "      <td>00:50</td>\n",
       "      <td>08h 48m</td>\n",
       "      <td>INR 567</td>\n",
       "      <td>8 Seats available</td>\n",
       "      <td>3.0\\n19</td>\n",
       "      <td>https://www.redbus.in/bus-tickets/bangalore-to...</td>\n",
       "      <td>Bangalore to Kozhikode</td>\n",
       "    </tr>\n",
       "    <tr>\n",
       "      <th>1</th>\n",
       "      <td>KSRTC (Kerala) - 171</td>\n",
       "      <td>Swift Deluxe Non AC Air Bus (2+2)</td>\n",
       "      <td>16:16</td>\n",
       "      <td>01:20</td>\n",
       "      <td>09h 04m</td>\n",
       "      <td>INR 640</td>\n",
       "      <td>15 Seats available</td>\n",
       "      <td>3.3\\n8</td>\n",
       "      <td>https://www.redbus.in/bus-tickets/bangalore-to...</td>\n",
       "      <td>Bangalore to Kozhikode</td>\n",
       "    </tr>\n",
       "    <tr>\n",
       "      <th>2</th>\n",
       "      <td>KSRTC (Kerala) - 553</td>\n",
       "      <td>Super Express Non AC Seater Air Bus (2+2)</td>\n",
       "      <td>16:45</td>\n",
       "      <td>01:25</td>\n",
       "      <td>08h 40m</td>\n",
       "      <td>INR 640</td>\n",
       "      <td>3 Seats available</td>\n",
       "      <td>3.7\\n11</td>\n",
       "      <td>https://www.redbus.in/bus-tickets/bangalore-to...</td>\n",
       "      <td>Bangalore to Kozhikode</td>\n",
       "    </tr>\n",
       "    <tr>\n",
       "      <th>3</th>\n",
       "      <td>KSRTC (Kerala) - 2056</td>\n",
       "      <td>Swift Deluxe Non AC Air Bus (2+2)</td>\n",
       "      <td>20:01</td>\n",
       "      <td>04:26</td>\n",
       "      <td>08h 25m</td>\n",
       "      <td>INR 567</td>\n",
       "      <td>36 Seats available</td>\n",
       "      <td>3.6</td>\n",
       "      <td>https://www.redbus.in/bus-tickets/bangalore-to...</td>\n",
       "      <td>Bangalore to Kozhikode</td>\n",
       "    </tr>\n",
       "    <tr>\n",
       "      <th>4</th>\n",
       "      <td>KSRTC (Kerala) - 1585</td>\n",
       "      <td>Super Express Non AC Seater Air Bus (2+2)</td>\n",
       "      <td>20:31</td>\n",
       "      <td>05:36</td>\n",
       "      <td>09h 05m</td>\n",
       "      <td>INR 640</td>\n",
       "      <td>20 Seats available</td>\n",
       "      <td>3.9\\n53</td>\n",
       "      <td>https://www.redbus.in/bus-tickets/bangalore-to...</td>\n",
       "      <td>Bangalore to Kozhikode</td>\n",
       "    </tr>\n",
       "    <tr>\n",
       "      <th>...</th>\n",
       "      <td>...</td>\n",
       "      <td>...</td>\n",
       "      <td>...</td>\n",
       "      <td>...</td>\n",
       "      <td>...</td>\n",
       "      <td>...</td>\n",
       "      <td>...</td>\n",
       "      <td>...</td>\n",
       "      <td>...</td>\n",
       "      <td>...</td>\n",
       "    </tr>\n",
       "    <tr>\n",
       "      <th>2035</th>\n",
       "      <td>Greenline</td>\n",
       "      <td>Volvo A/C Seater (2+2)</td>\n",
       "      <td>18:05</td>\n",
       "      <td>23:05</td>\n",
       "      <td>05h 00m</td>\n",
       "      <td>INR 524</td>\n",
       "      <td>35 Seats available</td>\n",
       "      <td>4.0\\n34</td>\n",
       "      <td>https://www.redbus.in/bus-tickets/kolkata-to-a...</td>\n",
       "      <td>Kolkata to Asansol (West Bengal)</td>\n",
       "    </tr>\n",
       "    <tr>\n",
       "      <th>2036</th>\n",
       "      <td>Royal Cruiser</td>\n",
       "      <td>Scania Multi-Axle AC Semi Sleeper (2+2)</td>\n",
       "      <td>19:30</td>\n",
       "      <td>00:15</td>\n",
       "      <td>04h 45m</td>\n",
       "      <td>523</td>\n",
       "      <td>47 Seats available</td>\n",
       "      <td>3.7\\n62</td>\n",
       "      <td>https://www.redbus.in/bus-tickets/kolkata-to-a...</td>\n",
       "      <td>Kolkata to Asansol (West Bengal)</td>\n",
       "    </tr>\n",
       "    <tr>\n",
       "      <th>2037</th>\n",
       "      <td>Beauty Travels</td>\n",
       "      <td>NON A/C Seater / Sleeper (2+2)</td>\n",
       "      <td>20:20</td>\n",
       "      <td>00:30</td>\n",
       "      <td>04h 10m</td>\n",
       "      <td>INR 380</td>\n",
       "      <td>36 Seats available</td>\n",
       "      <td>3.0</td>\n",
       "      <td>https://www.redbus.in/bus-tickets/kolkata-to-a...</td>\n",
       "      <td>Kolkata to Asansol (West Bengal)</td>\n",
       "    </tr>\n",
       "    <tr>\n",
       "      <th>2038</th>\n",
       "      <td>Pariwartan Bus Service</td>\n",
       "      <td>NON A/C Seater / Sleeper (2+2)</td>\n",
       "      <td>18:30</td>\n",
       "      <td>00:30</td>\n",
       "      <td>06h 00m</td>\n",
       "      <td>INR 500</td>\n",
       "      <td>54 Seats available</td>\n",
       "      <td></td>\n",
       "      <td>https://www.redbus.in/bus-tickets/kolkata-to-a...</td>\n",
       "      <td>Kolkata to Asansol (West Bengal)</td>\n",
       "    </tr>\n",
       "    <tr>\n",
       "      <th>2039</th>\n",
       "      <td>Maharani Travels</td>\n",
       "      <td>A/C Seater / Sleeper (2+1)</td>\n",
       "      <td>21:05</td>\n",
       "      <td>02:00</td>\n",
       "      <td>04h 55m</td>\n",
       "      <td>760</td>\n",
       "      <td>24 Seats available</td>\n",
       "      <td>2.7</td>\n",
       "      <td>https://www.redbus.in/bus-tickets/kolkata-to-a...</td>\n",
       "      <td>Kolkata to Asansol (West Bengal)</td>\n",
       "    </tr>\n",
       "  </tbody>\n",
       "</table>\n",
       "<p>2040 rows × 10 columns</p>\n",
       "</div>"
      ],
      "text/plain": [
       "                    Bus_name                                   Bus_type  \\\n",
       "0        KSRTC (Kerala) - 97          Swift Deluxe Non AC Air Bus (2+2)   \n",
       "1       KSRTC (Kerala) - 171          Swift Deluxe Non AC Air Bus (2+2)   \n",
       "2       KSRTC (Kerala) - 553  Super Express Non AC Seater Air Bus (2+2)   \n",
       "3      KSRTC (Kerala) - 2056          Swift Deluxe Non AC Air Bus (2+2)   \n",
       "4      KSRTC (Kerala) - 1585  Super Express Non AC Seater Air Bus (2+2)   \n",
       "...                      ...                                        ...   \n",
       "2035               Greenline                     Volvo A/C Seater (2+2)   \n",
       "2036           Royal Cruiser    Scania Multi-Axle AC Semi Sleeper (2+2)   \n",
       "2037          Beauty Travels             NON A/C Seater / Sleeper (2+2)   \n",
       "2038  Pariwartan Bus Service             NON A/C Seater / Sleeper (2+2)   \n",
       "2039        Maharani Travels                 A/C Seater / Sleeper (2+1)   \n",
       "\n",
       "     Start_time End_time Total_duration    Price     Seats_Available  Ratings  \\\n",
       "0         16:02    00:50        08h 48m  INR 567   8 Seats available  3.0\\n19   \n",
       "1         16:16    01:20        09h 04m  INR 640  15 Seats available   3.3\\n8   \n",
       "2         16:45    01:25        08h 40m  INR 640   3 Seats available  3.7\\n11   \n",
       "3         20:01    04:26        08h 25m  INR 567  36 Seats available      3.6   \n",
       "4         20:31    05:36        09h 05m  INR 640  20 Seats available  3.9\\n53   \n",
       "...         ...      ...            ...      ...                 ...      ...   \n",
       "2035      18:05    23:05        05h 00m  INR 524  35 Seats available  4.0\\n34   \n",
       "2036      19:30    00:15        04h 45m      523  47 Seats available  3.7\\n62   \n",
       "2037      20:20    00:30        04h 10m  INR 380  36 Seats available      3.0   \n",
       "2038      18:30    00:30        06h 00m  INR 500  54 Seats available            \n",
       "2039      21:05    02:00        04h 55m      760  24 Seats available      2.7   \n",
       "\n",
       "                                             Route_link  \\\n",
       "0     https://www.redbus.in/bus-tickets/bangalore-to...   \n",
       "1     https://www.redbus.in/bus-tickets/bangalore-to...   \n",
       "2     https://www.redbus.in/bus-tickets/bangalore-to...   \n",
       "3     https://www.redbus.in/bus-tickets/bangalore-to...   \n",
       "4     https://www.redbus.in/bus-tickets/bangalore-to...   \n",
       "...                                                 ...   \n",
       "2035  https://www.redbus.in/bus-tickets/kolkata-to-a...   \n",
       "2036  https://www.redbus.in/bus-tickets/kolkata-to-a...   \n",
       "2037  https://www.redbus.in/bus-tickets/kolkata-to-a...   \n",
       "2038  https://www.redbus.in/bus-tickets/kolkata-to-a...   \n",
       "2039  https://www.redbus.in/bus-tickets/kolkata-to-a...   \n",
       "\n",
       "                            Route_name  \n",
       "0               Bangalore to Kozhikode  \n",
       "1               Bangalore to Kozhikode  \n",
       "2               Bangalore to Kozhikode  \n",
       "3               Bangalore to Kozhikode  \n",
       "4               Bangalore to Kozhikode  \n",
       "...                                ...  \n",
       "2035  Kolkata to Asansol (West Bengal)  \n",
       "2036  Kolkata to Asansol (West Bengal)  \n",
       "2037  Kolkata to Asansol (West Bengal)  \n",
       "2038  Kolkata to Asansol (West Bengal)  \n",
       "2039  Kolkata to Asansol (West Bengal)  \n",
       "\n",
       "[2040 rows x 10 columns]"
      ]
     },
     "execution_count": 21,
     "metadata": {},
     "output_type": "execute_result"
    }
   ],
   "source": [
    "# csv to dataframe\n",
    "df_buses_1=pd.read_csv(\"df_buses_1.csv\")\n",
    "df_buses_2=pd.read_csv(\"df_buses_2.csv\")\n",
    "df_buses_3=pd.read_csv(\"df_buses_3.csv\")\n",
    "df_buses_4=pd.read_csv(\"df_buses_4.csv\")\n",
    "df_buses_5=pd.read_csv(\"df_buses_R.csv\")\n",
    "df_buses_6=pd.read_csv(\"df_buses_SB.csv\")\n",
    "df_buses_7=pd.read_csv(\"df_buses_H.csv\")\n",
    "df_buses_8=pd.read_csv(\"df_buses_AS.csv\")\n",
    "df_buses_9=pd.read_csv(\"df_buses_9.csv\")\n",
    "df_buses_10=pd.read_csv(\"df_buses_10.csv\")\n",
    "\n",
    "Final_df=pd.concat([df_buses_1,df_buses_2,df_buses_3,df_buses_4,df_buses_5,df_buses_6,\n",
    "                    df_buses_7,df_buses_8,df_buses_9,df_buses_10],ignore_index=True)\n",
    "Final_df"
   ]
  },
  {
   "cell_type": "markdown",
   "metadata": {},
   "source": [
    "# Data cleaning"
   ]
  },
  {
   "cell_type": "code",
   "execution_count": 22,
   "metadata": {},
   "outputs": [
    {
     "name": "stdout",
     "output_type": "stream",
     "text": [
      "<class 'pandas.core.frame.DataFrame'>\n",
      "RangeIndex: 2040 entries, 0 to 2039\n",
      "Data columns (total 10 columns):\n",
      " #   Column           Non-Null Count  Dtype \n",
      "---  ------           --------------  ----- \n",
      " 0   Bus_name         2040 non-null   object\n",
      " 1   Bus_type         2040 non-null   object\n",
      " 2   Start_time       2040 non-null   object\n",
      " 3   End_time         2040 non-null   object\n",
      " 4   Total_duration   2040 non-null   object\n",
      " 5   Price            2040 non-null   object\n",
      " 6   Seats_Available  2040 non-null   object\n",
      " 7   Ratings          2040 non-null   object\n",
      " 8   Route_link       2040 non-null   object\n",
      " 9   Route_name       2040 non-null   object\n",
      "dtypes: object(10)\n",
      "memory usage: 159.5+ KB\n"
     ]
    }
   ],
   "source": [
    "# data about the data\n",
    "Final_df.info()"
   ]
  },
  {
   "cell_type": "code",
   "execution_count": 23,
   "metadata": {},
   "outputs": [
    {
     "data": {
      "text/plain": [
       "0       567.0\n",
       "1       640.0\n",
       "2       640.0\n",
       "3       567.0\n",
       "4       640.0\n",
       "        ...  \n",
       "2035    524.0\n",
       "2036    523.0\n",
       "2037    380.0\n",
       "2038    500.0\n",
       "2039    760.0\n",
       "Name: Price, Length: 2040, dtype: float64"
      ]
     },
     "execution_count": 23,
     "metadata": {},
     "output_type": "execute_result"
    }
   ],
   "source": [
    "#convert prices to numeric\n",
    "Final_df[\"Price\"]=Final_df[\"Price\"].str.replace(\"INR\",\"\")\n",
    "Final_df[\"Price\"]=Final_df[\"Price\"].astype(float)\n",
    "Final_df[\"Price\"].fillna(0) \n"
   ]
  },
  {
   "cell_type": "code",
   "execution_count": 24,
   "metadata": {},
   "outputs": [],
   "source": [
    "#convert Ratings to numeric\n",
    "Final_df[\"Ratings\"]=Final_df[\"Ratings\"].str.replace(\"New\",\"\")\n",
    "Final_df[\"Ratings\"]=Final_df[\"Ratings\"].str.strip()\n",
    "Final_df[\"Ratings\"]=Final_df[\"Ratings\"].str.split().str[0]\n",
    "Final_df[\"Ratings\"] = pd.to_numeric(Final_df[\"Ratings\"], errors='coerce')\n",
    "Final_df[\"Ratings\"].fillna(0,inplace=True)\n"
   ]
  },
  {
   "cell_type": "code",
   "execution_count": 27,
   "metadata": {},
   "outputs": [],
   "source": [
    "Final_df['Seats_Available'] = Final_df['Seats_Available'].str.replace(' Seats available', '')"
   ]
  },
  {
   "cell_type": "code",
   "execution_count": 28,
   "metadata": {},
   "outputs": [
    {
     "name": "stdout",
     "output_type": "stream",
     "text": [
      "<class 'pandas.core.frame.DataFrame'>\n",
      "RangeIndex: 2040 entries, 0 to 2039\n",
      "Data columns (total 10 columns):\n",
      " #   Column           Non-Null Count  Dtype  \n",
      "---  ------           --------------  -----  \n",
      " 0   Bus_name         2040 non-null   object \n",
      " 1   Bus_type         2040 non-null   object \n",
      " 2   Start_time       2040 non-null   object \n",
      " 3   End_time         2040 non-null   object \n",
      " 4   Total_duration   2040 non-null   object \n",
      " 5   Price            2040 non-null   float64\n",
      " 6   Seats_Available  2040 non-null   object \n",
      " 7   Ratings          2040 non-null   float64\n",
      " 8   Route_link       2040 non-null   object \n",
      " 9   Route_name       2040 non-null   object \n",
      "dtypes: float64(2), object(8)\n",
      "memory usage: 159.5+ KB\n"
     ]
    }
   ],
   "source": [
    "# info after the data type change\n",
    "Final_df.info()"
   ]
  },
  {
   "cell_type": "code",
   "execution_count": null,
   "metadata": {},
   "outputs": [],
   "source": []
  },
  {
   "cell_type": "code",
   "execution_count": 29,
   "metadata": {},
   "outputs": [],
   "source": [
    "Final_df = Final_df[Final_df[\"Price\"] <= 7000]"
   ]
  },
  {
   "cell_type": "code",
   "execution_count": 30,
   "metadata": {},
   "outputs": [],
   "source": [
    "# replacing the nan value\n",
    "Final_df = Final_df.replace({np.nan: None})"
   ]
  },
  {
   "cell_type": "code",
   "execution_count": 31,
   "metadata": {},
   "outputs": [],
   "source": [
    "# change dataframe to csv\n",
    "path=r\"D:/Gowtham/Development/Data science - 162/Source code/Final_busdetails_df_edit.csv\"\n",
    "Final_df.to_csv(path,index=False)"
   ]
  },
  {
   "cell_type": "markdown",
   "metadata": {},
   "source": [
    "# Create a mysql database"
   ]
  },
  {
   "cell_type": "code",
   "execution_count": 32,
   "metadata": {},
   "outputs": [],
   "source": [
    "#sql connection\n",
    "conn=mysql.connector.connect(host=\"localhost\", user=\"root\", password=\"root\",database=\"red_bus_details\")\n",
    "my_cursor = conn.cursor()\n",
    "my_cursor.execute(\"CREATE DATABASE IF NOT EXISTS RED_BUS_DETAILS\")"
   ]
  },
  {
   "cell_type": "code",
   "execution_count": 35,
   "metadata": {},
   "outputs": [
    {
     "name": "stdout",
     "output_type": "stream",
     "text": [
      "Table Created successfully\n"
     ]
    }
   ],
   "source": [
    "# Table Creation\n",
    "my_cursor.execute('''CREATE TABLE IF NOT EXISTS bus_details_edit(\n",
    "                  ID INT AUTO_INCREMENT PRIMARY KEY,\n",
    "                  Bus_name VARCHAR(255) NOT NULL,\n",
    "                  Bus_type VARCHAR(255) NOT NULL,\n",
    "                  Start_time VARCHAR(255) NOT NULL,\n",
    "                  End_time VARCHAR(255) NOT NULL,\n",
    "                  Total_duration VARCHAR(255) NOT NULL,\n",
    "                  Price FLOAT NULL,\n",
    "                  Seats_Available VARCHAR(255) NOT NULL,\n",
    "                  Ratings Float NULL,\n",
    "                  Route_link VARCHAR(255) NULL,\n",
    "                  Route_name VARCHAR(255) NULL\n",
    "                  )''')\n",
    "print(\"Table Created successfully\")"
   ]
  },
  {
   "cell_type": "code",
   "execution_count": 36,
   "metadata": {},
   "outputs": [
    {
     "name": "stdout",
     "output_type": "stream",
     "text": [
      "Values inserted successfully\n"
     ]
    }
   ],
   "source": [
    "# SQL query to insert data into bus_details table\n",
    "insert_query = '''INSERT INTO bus_details_edit(\n",
    "                    Bus_name,\n",
    "                    Bus_type,\n",
    "                    Start_time,\n",
    "                    End_time,\n",
    "                    Total_duration,\n",
    "                    Price,\n",
    "                    Seats_Available,\n",
    "                    Ratings,\n",
    "                    Route_link,\n",
    "                    Route_name)\n",
    "                  VALUES(%s, %s, %s, %s, %s, %s, %s, %s, %s, %s)'''\n",
    "data = Final_df.values.tolist()\n",
    "\n",
    "my_cursor.executemany(insert_query, data)\n",
    "\n",
    "conn.commit()\n",
    "\n",
    "print(\"Values inserted successfully\")\n"
   ]
  },
  {
   "cell_type": "code",
   "execution_count": null,
   "metadata": {},
   "outputs": [],
   "source": []
  }
 ],
 "metadata": {
  "kernelspec": {
   "display_name": "Python 3 (ipykernel)",
   "language": "python",
   "name": "python3"
  },
  "language_info": {
   "codemirror_mode": {
    "name": "ipython",
    "version": 3
   },
   "file_extension": ".py",
   "mimetype": "text/x-python",
   "name": "python",
   "nbconvert_exporter": "python",
   "pygments_lexer": "ipython3",
   "version": "3.11.7"
  }
 },
 "nbformat": 4,
 "nbformat_minor": 4
}
